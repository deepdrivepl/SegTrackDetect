{
 "cells": [
  {
   "cell_type": "code",
   "execution_count": 4,
   "id": "b2f0a59f-72eb-4a54-b0d9-0d1f48c78073",
   "metadata": {},
   "outputs": [
    {
     "name": "stdout",
     "output_type": "stream",
     "text": [
      "loading annotations into memory...\n",
      "Done (t=0.49s)\n",
      "creating index...\n",
      "index created!\n",
      "Loading and preparing results...\n",
      "DONE (t=0.36s)\n",
      "creating index...\n",
      "index created!\n"
     ]
    }
   ],
   "source": [
    "from pycocotools.coco import COCO\n",
    "from pycocotools.cocoeval import COCOeval\n",
    "\n",
    "\n",
    "anno = COCO('../data/DET/test_dev.json')  # init annotations api\n",
    "pred = anno.loadRes('detections/005/results.json')  # init predictions api\n",
    "eval = COCOeval(anno, pred, 'bbox')"
   ]
  },
  {
   "cell_type": "code",
   "execution_count": 5,
   "id": "315fba28-2077-41bf-8092-cd2de8102e7d",
   "metadata": {},
   "outputs": [
    {
     "data": {
      "text/plain": [
       "[1, 10, 100]"
      ]
     },
     "execution_count": 5,
     "metadata": {},
     "output_type": "execute_result"
    }
   ],
   "source": [
    "eval.params.maxDets"
   ]
  },
  {
   "cell_type": "code",
   "execution_count": 9,
   "id": "c20d2613-f65b-4461-b68a-ef9f0e17d8ab",
   "metadata": {},
   "outputs": [
    {
     "name": "stdout",
     "output_type": "stream",
     "text": [
      "Running per image evaluation...\n",
      "Evaluate annotation type *bbox*\n",
      "DONE (t=26.17s).\n",
      "Accumulating evaluation results...\n",
      "DONE (t=1.31s).\n",
      " Average Precision  (AP) @[ IoU=0.50:0.95 | area=   all | maxDets=100 ] = 0.152\n",
      " Average Precision  (AP) @[ IoU=0.50      | area=   all | maxDets=100 ] = 0.258\n",
      " Average Precision  (AP) @[ IoU=0.75      | area=   all | maxDets=100 ] = 0.158\n",
      " Average Precision  (AP) @[ IoU=0.50:0.95 | area= small | maxDets=100 ] = 0.079\n",
      " Average Precision  (AP) @[ IoU=0.50:0.95 | area=medium | maxDets=100 ] = 0.228\n",
      " Average Precision  (AP) @[ IoU=0.50:0.95 | area= large | maxDets=100 ] = 0.304\n",
      " Average Recall     (AR) @[ IoU=0.50:0.95 | area=   all | maxDets=  1 ] = 0.071\n",
      " Average Recall     (AR) @[ IoU=0.50:0.95 | area=   all | maxDets= 10 ] = 0.179\n",
      " Average Recall     (AR) @[ IoU=0.50:0.95 | area=   all | maxDets=100 ] = 0.207\n",
      " Average Recall     (AR) @[ IoU=0.50:0.95 | area= small | maxDets=100 ] = 0.121\n",
      " Average Recall     (AR) @[ IoU=0.50:0.95 | area=medium | maxDets=100 ] = 0.305\n",
      " Average Recall     (AR) @[ IoU=0.50:0.95 | area= large | maxDets=100 ] = 0.352\n"
     ]
    }
   ],
   "source": [
    "max_dets = 100\n",
    "imgIds = sorted(anno.getImgIds())\n",
    "eval.params.imgIds = imgIds\n",
    "eval.params.maxDets[2] = max_dets\n",
    "\n",
    "eval.evaluate()\n",
    "eval.accumulate()\n",
    "eval.summarize()\n",
    "map, map50 = eval.stats[:2]  # update results (mAP@0.5:0.95, mAP@0.5)"
   ]
  },
  {
   "cell_type": "code",
   "execution_count": 7,
   "id": "37ed9b8b-5a63-47c5-a9fa-0fe963daf300",
   "metadata": {},
   "outputs": [
    {
     "data": {
      "text/plain": [
       "array([-1.        ,  0.25859687,  0.15791815,  0.07949004,  0.22770867,\n",
       "        0.30396799,  0.07074983,  0.17940853,  0.20750448,  0.12122983,\n",
       "        0.30547584,  0.35188245])"
      ]
     },
     "execution_count": 7,
     "metadata": {},
     "output_type": "execute_result"
    }
   ],
   "source": [
    "eval.stats"
   ]
  },
  {
   "cell_type": "code",
   "execution_count": 13,
   "id": "c816119a-f7c7-4862-94bd-ce669e81fbfd",
   "metadata": {},
   "outputs": [],
   "source": [
    "names = ['AP', 'AP50', 'AP75', 'APs', 'APm', 'APl', 'AR1', 'AR10', 'AR100', 'ARs', 'ARm', 'ARl', 'maxDets']\n",
    "stats = {k:v for k,v in zip(names, eval.stats.tolist()+[eval.params.maxDets])}"
   ]
  },
  {
   "cell_type": "code",
   "execution_count": 14,
   "id": "f37c542c-e20c-454f-90a7-762043bdaafe",
   "metadata": {},
   "outputs": [
    {
     "data": {
      "text/plain": [
       "{'AP': 0.15194720411776405,\n",
       " 'AP50': 0.2580363474846447,\n",
       " 'AP75': 0.15790659588635153,\n",
       " 'APs': 0.07942685553217674,\n",
       " 'APm': 0.2277057267246294,\n",
       " 'APl': 0.3039679916935987,\n",
       " 'AR1': 0.07074983099771624,\n",
       " 'AR10': 0.1794085340830356,\n",
       " 'AR100': 0.2074276648766777,\n",
       " 'ARs': 0.12114880565152604,\n",
       " 'ARm': 0.30544044017681005,\n",
       " 'ARl': 0.3518824485285532,\n",
       " 'maxDets': [1, 10, 100]}"
      ]
     },
     "execution_count": 14,
     "metadata": {},
     "output_type": "execute_result"
    }
   ],
   "source": [
    "stats"
   ]
  },
  {
   "cell_type": "code",
   "execution_count": null,
   "id": "7da5c876-5b51-4446-9283-ba58a72c8109",
   "metadata": {},
   "outputs": [],
   "source": []
  }
 ],
 "metadata": {
  "kernelspec": {
   "display_name": "Python 3 (ipykernel)",
   "language": "python",
   "name": "python3"
  },
  "language_info": {
   "codemirror_mode": {
    "name": "ipython",
    "version": 3
   },
   "file_extension": ".py",
   "mimetype": "text/x-python",
   "name": "python",
   "nbconvert_exporter": "python",
   "pygments_lexer": "ipython3",
   "version": "3.8.12"
  }
 },
 "nbformat": 4,
 "nbformat_minor": 5
}
