{
 "cells": [
  {
   "cell_type": "code",
   "execution_count": 1,
   "id": "cbc1dd87-eb86-44e4-9d07-22bfad9ebaa4",
   "metadata": {},
   "outputs": [],
   "source": [
    "import os\n",
    "import json\n",
    "\n",
    "from glob import glob\n",
    "from tqdm import tqdm\n",
    "\n",
    "import torch\n",
    "import numpy as np\n",
    "import pandas as pd\n",
    "import matplotlib.pyplot as plt\n",
    "import cv2\n",
    "\n",
    "from utils.drawing import plot_one_box, draw_text\n",
    "from utils.bboxes import box_iou"
   ]
  },
  {
   "cell_type": "code",
   "execution_count": 2,
   "id": "ac3ae1a7-02d9-42a6-af52-8c2906e9ae67",
   "metadata": {},
   "outputs": [],
   "source": [
    "res_path = \"/home/kos/projects/PhD/ZebraFish/tinyROI/metrics/val-fixed-seq-empty-added-test-rotate-IBS/roi-fix/results-ZebraFish-03-imgF.json\"\n",
    "CONF_TH = 0.3\n",
    "FILT_TH = 0.7\n",
    "out_dir =  f'/home/kos/projects/PhD/ZebraFish/tinyROI/metrics/val-fixed-seq-empty-added-test-rotate-IBS/roi-fix/before-after-{FILT_TH}-{CONF_TH}'"
   ]
  },
  {
   "cell_type": "code",
   "execution_count": 3,
   "id": "3623aa4c-6794-467b-9900-fc9730f24149",
   "metadata": {},
   "outputs": [],
   "source": [
    "def draw_dets_and_windows(img, dets, windows, vis_conf_th=0.1):\n",
    "    for i, window in enumerate(windows):\n",
    "        img = plot_one_box(list(map(int, window)), img, color=(0,0,180), label=f'WINDOW {i}', line_thickness=4, draw_label=False)\n",
    "    \n",
    "    dets = dets[dets[:, -1] >= vis_conf_th]\n",
    "    for i, det in enumerate(dets.tolist()):\n",
    "        xmin,ymin,xmax,ymax = det[:4]\n",
    "        img = plot_one_box(list(map(int, [xmin,ymin,xmax,ymax])), img, color=(180,20,20), \n",
    "                             label=f'DET {i}', line_thickness=1, draw_label=False)\n",
    "        \n",
    "        \n",
    "    stats = [\"WINDOWS   %02d\" % len(windows.tolist()), \"DETS   %02d\" % len(dets.tolist())]\n",
    "    img = draw_text(img, \"\\n\".join(stats), 20, 40, color=(255,255,255))\n",
    "    return img\n",
    "\n",
    "def filter_dets_in_window(window, dets, other_dets, th=FILT_TH): # th=0.8):\n",
    "    intersection_maxs = torch.min(other_dets[:, None, 2:], window[:, 2:]) # xmax, ymax\n",
    "    intersection_mins = torch.max(other_dets[:, None, :2], window[:, :2]) # xmin, ymin\n",
    "    intersections = torch.flatten(torch.cat((intersection_mins, intersection_maxs), dim=2), start_dim=0, end_dim=1)\n",
    "    ious = box_iou(intersections, dets)\n",
    "    to_del = torch.where(ious > th)[1]\n",
    "    dets_filtered = dets[[x for x in range(dets.shape[0]) if x not in to_del],:]\n",
    "    return dets_filtered"
   ]
  },
  {
   "cell_type": "code",
   "execution_count": 4,
   "id": "055f72e7-98f9-4492-ba2a-7968bbc048b2",
   "metadata": {},
   "outputs": [
    {
     "name": "stderr",
     "output_type": "stream",
     "text": [
      "100%|█████████████████████████████████████████████| 1800/1800 [04:26<00:00,  6.75it/s]\n"
     ]
    }
   ],
   "source": [
    "os.makedirs(out_dir, exist_ok=True)\n",
    "results = json.load(open(res_path))\n",
    "\n",
    "unique_frames = sorted(list(set([x['image_path'] for x in results])))\n",
    "\n",
    "for unique_frame in tqdm(unique_frames):\n",
    "    res = [x for x in results if x['image_path']==unique_frame]\n",
    "    bboxes = torch.tensor([x['bbox']+[x['score']] for x in res])\n",
    "    im = cv2.imread(res[0]['image_path'])\n",
    "    \n",
    "    windows = torch.empty((0,4)).to(torch.int32)\n",
    "    if 'window_bbox' in res[0].keys():\n",
    "        windows = torch.tensor([x['window_bbox'] for x in res]).to(torch.int32)\n",
    "        \n",
    "    indices = torch.where(bboxes[:,-1] > CONF_TH)[0]\n",
    "    bboxes = bboxes[indices,:]\n",
    "    bboxes = bboxes[:,:-1].to(torch.int32)\n",
    "    bboxes[:,2] = bboxes[:, 0]+bboxes[:,2]\n",
    "    bboxes[:,3] = bboxes[:, 1]+bboxes[:,3]\n",
    "\n",
    "    if 'window_bbox' not in res[0].keys():\n",
    "        im_before = draw_dets_and_windows(im, bboxes, windows, vis_conf_th=CONF_TH)\n",
    "        im = np.hstack((im_before, im_before))\n",
    "        cv2.imwrite(f\"{out_dir}/{os.path.basename(res[0]['image_path'])}\", im)\n",
    "        continue\n",
    "        \n",
    "    windows = windows[indices,:]\n",
    "    # print(bboxes.shape, windows.shape)\n",
    "\n",
    "    unique_windows = torch.unique(windows, dim=0)\n",
    "\n",
    "    dets_after = torch.empty((0,4))\n",
    "    for unique_window in unique_windows:\n",
    "        ind_win = torch.unique(torch.where(windows==unique_window)[0])\n",
    "        ind_notwin = torch.unique(torch.where(windows!=unique_window)[0])\n",
    "        window_dets = bboxes[ind_win,:]\n",
    "        other_dets = bboxes[ind_notwin,:]\n",
    "\n",
    "        filtered = filter_dets_in_window(unique_window.unsqueeze(0), window_dets, other_dets) # remove filtered after first iteration + sort by size before ???\n",
    "        dets_after = torch.cat((dets_after,filtered))\n",
    "    \n",
    "    im_before = draw_dets_and_windows(im.copy(), bboxes, windows, vis_conf_th=CONF_TH)\n",
    "    im_after = draw_dets_and_windows(im, dets_after, windows, vis_conf_th=CONF_TH)\n",
    "    \n",
    "    im = np.hstack((im_before, im_after))\n",
    "    cv2.imwrite(f\"{out_dir}/{os.path.basename(res[0]['image_path'])}\", im)\n",
    "    # break"
   ]
  },
  {
   "cell_type": "code",
   "execution_count": null,
   "id": "cf086fd9-3e2a-4644-b737-f950cb8ef3d4",
   "metadata": {},
   "outputs": [],
   "source": []
  }
 ],
 "metadata": {
  "kernelspec": {
   "display_name": "Python 3 (ipykernel)",
   "language": "python",
   "name": "python3"
  },
  "language_info": {
   "codemirror_mode": {
    "name": "ipython",
    "version": 3
   },
   "file_extension": ".py",
   "mimetype": "text/x-python",
   "name": "python",
   "nbconvert_exporter": "python",
   "pygments_lexer": "ipython3",
   "version": "3.8.13"
  }
 },
 "nbformat": 4,
 "nbformat_minor": 5
}
